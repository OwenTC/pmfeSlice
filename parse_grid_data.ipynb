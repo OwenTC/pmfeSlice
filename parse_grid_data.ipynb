{
 "cells": [
  {
   "cell_type": "code",
   "execution_count": 1,
   "metadata": {},
   "outputs": [],
   "source": [
    "import pandas as pd\n",
    "# scores = pd.read_csv(\"scores.csv\", sep=\";\")\n",
    "import seaborn as sns\n",
    "import numpy as np"
   ]
  },
  {
   "cell_type": "code",
   "execution_count": 2,
   "metadata": {},
   "outputs": [
    {
     "ename": "FileNotFoundError",
     "evalue": "[Errno 2] No such file or directory: 'scores5.csv'",
     "output_type": "error",
     "traceback": [
      "\u001b[0;31m---------------------------------------------------------------------------\u001b[0m",
      "\u001b[0;31mFileNotFoundError\u001b[0m                         Traceback (most recent call last)",
      "\u001b[0;32m<ipython-input-2-a3a13f95782b>\u001b[0m in \u001b[0;36m<module>\u001b[0;34m\u001b[0m\n\u001b[1;32m      1\u001b[0m \u001b[0msize\u001b[0m \u001b[0;34m=\u001b[0m \u001b[0;34m(\u001b[0m\u001b[0;36m2000\u001b[0m\u001b[0;34m,\u001b[0m\u001b[0;36m6\u001b[0m\u001b[0;34m)\u001b[0m\u001b[0;34m\u001b[0m\u001b[0;34m\u001b[0m\u001b[0m\n\u001b[1;32m      2\u001b[0m \u001b[0mcolor_map\u001b[0m \u001b[0;34m=\u001b[0m \u001b[0mnp\u001b[0m\u001b[0;34m.\u001b[0m\u001b[0mzeros\u001b[0m\u001b[0;34m(\u001b[0m\u001b[0msize\u001b[0m\u001b[0;34m,\u001b[0m \u001b[0mdtype\u001b[0m\u001b[0;34m=\u001b[0m\u001b[0mint\u001b[0m\u001b[0;34m)\u001b[0m\u001b[0;34m\u001b[0m\u001b[0;34m\u001b[0m\u001b[0m\n\u001b[0;32m----> 3\u001b[0;31m \u001b[0;32mwith\u001b[0m \u001b[0mopen\u001b[0m\u001b[0;34m(\u001b[0m\u001b[0;34m\"scores5.csv\"\u001b[0m\u001b[0;34m)\u001b[0m \u001b[0;32mas\u001b[0m \u001b[0ms\u001b[0m\u001b[0;34m:\u001b[0m\u001b[0;34m\u001b[0m\u001b[0;34m\u001b[0m\u001b[0m\n\u001b[0m\u001b[1;32m      4\u001b[0m     \u001b[0mdata\u001b[0m \u001b[0;34m=\u001b[0m \u001b[0ms\u001b[0m\u001b[0;34m.\u001b[0m\u001b[0mread\u001b[0m\u001b[0;34m(\u001b[0m\u001b[0;34m)\u001b[0m\u001b[0;34m.\u001b[0m\u001b[0msplit\u001b[0m\u001b[0;34m(\u001b[0m\u001b[0;34m\";\"\u001b[0m\u001b[0;34m)\u001b[0m\u001b[0;34m\u001b[0m\u001b[0;34m\u001b[0m\u001b[0m\n\u001b[1;32m      5\u001b[0m     \u001b[0;31m# i = 0\u001b[0m\u001b[0;34m\u001b[0m\u001b[0;34m\u001b[0m\u001b[0;34m\u001b[0m\u001b[0m\n",
      "\u001b[0;31mFileNotFoundError\u001b[0m: [Errno 2] No such file or directory: 'scores5.csv'"
     ]
    }
   ],
   "source": [
    "size = (2000,6)\n",
    "color_map = np.zeros(size, dtype=int)\n",
    "with open(\"scores5.csv\") as s:\n",
    "    data = s.read().split(\";\")\n",
    "    # i = 0\n",
    "    # j = 0\n",
    "    sigs = []\n",
    "    data = filter(lambda x: x != \"0\", data)\n",
    "    for d in data:\n",
    "        point = eval(d)\n",
    "        if type(point) == tuple:\n",
    "            point = (point[0], point[2])\n",
    "        sigs.append(point)\n",
    "    colors = [(i+1)*100/len(set(sigs)) for i in range(0, len(sigs))]\n",
    "    sig_dict = {x:y for x, y in zip(list(set(sigs)), colors)}\n",
    "    sigs_mapped = map(lambda x : sig_dict[x], sigs)\n",
    "    # print(list(sigs_mapped))\n",
    "    color_map = np.array(list(sigs_mapped)).reshape(size).T\n",
    "    # for i, d in enumerate(sigs_mapped):\n",
    "    #     color_map[i%size[0]][i%size[1]] = d"
   ]
  },
  {
   "cell_type": "code",
   "execution_count": 5,
   "metadata": {},
   "outputs": [],
   "source": [
    "size = (25,15)\n",
    "color_map = np.zeros(size, dtype=int)\n",
    "with open(\"non_int_tp_scores.csv\") as s:\n",
    "    data = s.read().split(\";\")\n",
    "    # i = 0\n",
    "    # j = 0\n",
    "    sigs = []\n",
    "    data = filter(lambda x: x != \"0\", data)\n",
    "    for d in data:\n",
    "        point = eval(d)\n",
    "        if type(point) == tuple:\n",
    "            point = (point[0], point[2])\n",
    "        sigs.append(point)\n",
    "    colors = [(i+1)*100/len(set(sigs)) for i in range(0, len(sigs))]\n",
    "    sig_dict = {x:y for x, y in zip(list(set(sigs)), colors)}\n",
    "    sigs_mapped = map(lambda x : sig_dict[x], sigs)\n",
    "    # print(list(sigs_mapped))\n",
    "    color_map = np.array(list(sigs_mapped)).reshape(size).T\n",
    "    # for i, d in enumerate(sigs_mapped):\n",
    "    #     color_map[i%size[0]][i%size[1]] = d"
   ]
  },
  {
   "cell_type": "code",
   "execution_count": 6,
   "metadata": {},
   "outputs": [
    {
     "name": "stdout",
     "output_type": "stream",
     "text": [
      "[(6, 19), (6, 19), (6, 19), (6, 19), (6, 19), (6, 19), (6, 19), (6, 19), (6, 19), (6, 19), (6, 19), (6, 18), (5, 15), (5, 15), (5, 15), (6, 19), (6, 19), (6, 19), (6, 19), (6, 19), (6, 19), (6, 19), (6, 19), (6, 19), (6, 19), (6, 19), (6, 18), (5, 15), (5, 15), (5, 15), (6, 19), (6, 19), (6, 19), (6, 19), (6, 19), (6, 19), (6, 19), (6, 19), (6, 19), (6, 19), (6, 19), (6, 18), (5, 15), (5, 15), (5, 15), (6, 19), (6, 19), (6, 19), (6, 19), (6, 19), (6, 19), (6, 19), (6, 19), (6, 19), (6, 19), (6, 19), (5, 15), (5, 15), (5, 15), (5, 15), (6, 19), (6, 19), (6, 19), (6, 19), (6, 19), (6, 19), (6, 19), (6, 19), (6, 19), (6, 19), (6, 19), (5, 15), (5, 15), (5, 15), (5, 15), (6, 19), (6, 19), (6, 19), (6, 19), (6, 19), (6, 19), (6, 19), (6, 19), (6, 19), (6, 19), (6, 19), (5, 15), (5, 15), (5, 15), (5, 15), (6, 19), (6, 19), (6, 19), (6, 19), (6, 19), (6, 19), (6, 19), (6, 19), (6, 19), (6, 19), (5, 15), (5, 15), (5, 15), (5, 15), (5, 15), (6, 19), (6, 19), (6, 19), (6, 19), (6, 19), (6, 19), (6, 19), (6, 19), (6, 19), (6, 19), (5, 15), (5, 15), (5, 15), (5, 15), (5, 15), (6, 19), (6, 19), (6, 19), (6, 19), (6, 19), (6, 19), (6, 19), (6, 19), (6, 19), (6, 19), (5, 15), (5, 15), (5, 15), (5, 15), (5, 15), (6, 19), (6, 19), (6, 19), (6, 19), (6, 19), (6, 19), (6, 19), (6, 19), (6, 19), (6, 19), (5, 15), (5, 15), (5, 15), (5, 15), (5, 15), (6, 19), (6, 19), (6, 19), (6, 19), (6, 19), (6, 19), (6, 19), (6, 19), (6, 19), (5, 15), (5, 15), (5, 15), (5, 15), (5, 15), (5, 15), (6, 19), (6, 19), (6, 19), (6, 19), (6, 19), (6, 19), (6, 19), (6, 19), (6, 19), (5, 15), (5, 15), (5, 15), (5, 15), (5, 15), (4, 14), (6, 19), (6, 19), (6, 19), (6, 19), (6, 19), (6, 19), (6, 19), (6, 19), (6, 19), (5, 15), (5, 15), (5, 15), (5, 15), (4, 14), (4, 14), (6, 19), (6, 19), (6, 19), (6, 19), (6, 19), (6, 19), (6, 19), (6, 19), (6, 19), (5, 15), (5, 15), (5, 15), (4, 14), (4, 14), (4, 14), (6, 19), (6, 19), (6, 19), (6, 19), (6, 19), (6, 19), (6, 19), (6, 19), (5, 15), (5, 15), (5, 15), (4, 14), (4, 14), (4, 14), (4, 14), (6, 19), (6, 19), (6, 19), (6, 19), (6, 19), (6, 19), (6, 19), (6, 19), (5, 15), (5, 15), (4, 14), (4, 14), (4, 14), (4, 14), (4, 14), (6, 19), (6, 19), (6, 19), (6, 19), (6, 19), (6, 19), (6, 19), (6, 19), (5, 15), (4, 14), (4, 14), (4, 14), (4, 14), (4, 14), (4, 14), (6, 19), (6, 19), (6, 19), (6, 19), (6, 19), (6, 19), (6, 19), (6, 19), (4, 14), (4, 14), (4, 14), (4, 14), (4, 14), (4, 14), (4, 14), (6, 19), (6, 19), (6, 19), (6, 19), (6, 19), (6, 19), (6, 19), (4, 14), (4, 14), (4, 14), (4, 14), (4, 14), (4, 14), (4, 14), (4, 14), (6, 19), (6, 19), (6, 19), (6, 19), (6, 19), (6, 19), (6, 19), (4, 14), (4, 14), (4, 14), (4, 14), (4, 14), (4, 14), (4, 14), (4, 14), (6, 19), (6, 19), (6, 19), (6, 19), (6, 19), (6, 19), (6, 19), (4, 14), (4, 14), (4, 14), (4, 14), (4, 14), (4, 14), (4, 14), (4, 14), (6, 19), (6, 19), (6, 19), (6, 19), (6, 19), (6, 19), (4, 14), (4, 14), (4, 14), (4, 14), (4, 14), (4, 14), (4, 14), (4, 14), (4, 14), (6, 19), (6, 19), (6, 19), (6, 19), (6, 19), (6, 19), (4, 14), (4, 14), (4, 14), (4, 14), (4, 14), (4, 14), (4, 14), (4, 14), (4, 14), (6, 19), (6, 19), (6, 19), (6, 19), (6, 19), (4, 14), (4, 14), (4, 14), (4, 14), (4, 14), (4, 14), (4, 14), (4, 14), (4, 14), (4, 14), (6, 19), (6, 19), (6, 19), (6, 19), (6, 19), (4, 14), (4, 14), (4, 14), (4, 14), (4, 14), (4, 14), (4, 14), (4, 14), (4, 14), (4, 14)]\n",
      "375 None {(6, 19): 25.0, (6, 18): 50.0, (4, 14): 75.0, (5, 15): 100.0}\n",
      "[[ 25.  25.  25.  25. 100.  25.  25. 100.  25.  25.  75.  25.  25.  75.\n",
      "   75.]\n",
      " [ 25.  50.  25.  25. 100.  25.  25. 100.  25.  25.  75.  25.  25.  75.\n",
      "   75.]\n",
      " [ 25. 100.  25.  25. 100.  25.  25. 100.  25.  25.  75.  75.  25.  75.\n",
      "   75.]\n",
      " [ 25. 100.  25.  25. 100.  25.  25. 100.  25.  25.  75.  75.  25.  75.\n",
      "   75.]\n",
      " [ 25. 100.  25.  25. 100.  25.  25.  75. 100.  25.  75.  75.  25.  75.\n",
      "   75.]\n",
      " [ 25.  25.  25.  25.  25. 100.  25.  25. 100.  25.  25.  75.  25.  25.\n",
      "   75.]\n",
      " [ 25.  25. 100.  25.  25. 100.  25.  25. 100.  25.  25.  75.  25.  25.\n",
      "   75.]\n",
      " [ 25.  25. 100.  25.  25. 100.  25.  25.  75.  25.  25.  75.  75.  25.\n",
      "   75.]\n",
      " [ 25.  25. 100.  25.  25. 100.  25.  25.  75. 100.  25.  75.  75.  25.\n",
      "   75.]\n",
      " [ 25.  25. 100.  25.  25. 100. 100.  25.  75. 100.  25.  75.  75.  25.\n",
      "   75.]\n",
      " [ 25.  25.  25.  25.  25.  25. 100.  25.  25.  75.  25.  25.  75.  25.\n",
      "   25.]\n",
      " [ 50.  25.  25. 100.  25.  25. 100.  25.  25.  75.  25.  25.  75.  75.\n",
      "   25.]\n",
      " [100.  25.  25. 100.  25.  25. 100.  25.  25.  75.  25.  25.  75.  75.\n",
      "   25.]\n",
      " [100.  25.  25. 100.  25.  25. 100.  25.  25.  75.  75.  25.  75.  75.\n",
      "   25.]\n",
      " [100.  25.  25. 100.  25.  25. 100. 100.  25.  75.  75.  25.  75.  75.\n",
      "   25.]\n",
      " [ 25.  25.  25.  25. 100.  25.  25. 100.  25.  25.  75.  25.  25.  75.\n",
      "   75.]\n",
      " [ 25.  50.  25.  25. 100.  25.  25. 100.  25.  25.  75.  25.  25.  75.\n",
      "   75.]\n",
      " [ 25. 100.  25.  25. 100.  25.  25. 100.  25.  25.  75.  75.  25.  75.\n",
      "   75.]\n",
      " [ 25. 100.  25.  25. 100.  25.  25.  75. 100.  25.  75.  75.  25.  75.\n",
      "   75.]\n",
      " [ 25. 100.  25.  25. 100.  25.  25.  75. 100.  25.  75.  75.  25.  75.\n",
      "   75.]\n",
      " [ 25.  25.  25.  25.  25. 100.  25.  25. 100.  25.  25.  75.  25.  25.\n",
      "   75.]\n",
      " [ 25.  25. 100.  25.  25. 100.  25.  25.  75.  25.  25.  75.  75.  25.\n",
      "   75.]\n",
      " [ 25.  25. 100.  25.  25. 100.  25.  25.  75.  25.  25.  75.  75.  25.\n",
      "   75.]\n",
      " [ 25.  25. 100.  25.  25. 100.  25.  25.  75. 100.  25.  75.  75.  25.\n",
      "   75.]\n",
      " [ 25.  25. 100.  25.  25. 100. 100.  25.  75.  75.  25.  75.  75.  25.\n",
      "   75.]]\n"
     ]
    },
    {
     "name": "stderr",
     "output_type": "stream",
     "text": [
      "/home/owen/.local/lib/python3.6/site-packages/ipykernel_launcher.py:11: UserWarning: Matplotlib is currently using module://ipykernel.pylab.backend_inline, which is a non-GUI backend, so cannot show the figure.\n",
      "  # This is added back by InteractiveShellApp.init_path()\n"
     ]
    },
    {
     "data": {
      "image/png": "[encoded data removed]",
      "text/plain": [
       "<Figure size 600x400 with 1 Axes>"
      ]
     },
     "metadata": {
      "needs_background": "light"
     },
     "output_type": "display_data"
    }
   ],
   "source": [
    "import matplotlib.pyplot as plt\n",
    "import matplotlib as mpl\n",
    "mpl.rcParams['figure.dpi'] = 100\n",
    "# plt.imshow(color_map)\n",
    "# plt.show()\n",
    "\n",
    "fig, ax = plt.subplots()\n",
    "\n",
    "p = ax.pcolormesh(color_map[:])\n",
    "ax.set_box_aspect(1)\n",
    "fig.show()\n",
    "\n",
    "print(len(sigs), print(sigs), sig_dict)\n",
    "print(color_map)"
   ]
  },
  {
   "cell_type": "code",
   "execution_count": 117,
   "metadata": {},
   "outputs": [
    {
     "name": "stdout",
     "output_type": "stream",
     "text": [
      "[[60. 60. 60. 60. 60. 60. 60. 60. 60. 60. 60. 60. 60. 60. 60. 60. 60. 60.\n",
      "  60. 60.]]\n"
     ]
    }
   ],
   "source": [
    "\n",
    "\n",
    "print(color_map[:1])"
   ]
  },
  {
   "cell_type": "code",
   "execution_count": 87,
   "metadata": {},
   "outputs": [
    {
     "data": {
      "text/plain": [
       "0"
      ]
     },
     "execution_count": 87,
     "metadata": {},
     "output_type": "execute_result"
    }
   ],
   "source": [
    "test_array[0,2]"
   ]
  },
  {
   "cell_type": "code",
   "execution_count": null,
   "metadata": {},
   "outputs": [],
   "source": [
    "# scores2 100000x100000 step 10000 (bug)\n",
    "#scores_cool 10000x10000 step 1000\n",
    "#scores3 100000x100000 step 10000\n",
    "#scores4 100000x100000 step 10000 (pmfe)\n",
    "#scores5 100000x100000 step 10000\n"
   ]
  }
 ],
 "metadata": {
  "kernelspec": {
   "display_name": "Python 3",
   "language": "python",
   "name": "python3"
  },
  "language_info": {
   "codemirror_mode": {
    "name": "ipython",
    "version": 3
   },
   "file_extension": ".py",
   "mimetype": "text/x-python",
   "name": "python",
   "nbconvert_exporter": "python",
   "pygments_lexer": "ipython3",
   "version": "3.6.9"
  }
 },
 "nbformat": 4,
 "nbformat_minor": 2
}
